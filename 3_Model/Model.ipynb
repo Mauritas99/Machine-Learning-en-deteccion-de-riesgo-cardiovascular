{
 "cells": [
  {
   "cell_type": "markdown",
   "metadata": {},
   "source": [
    "<img src=\"https://raw.githubusercontent.com/Mauritas99/Proyect_images/refs/heads/main/Banners/Machine-learning-banner.jpg\" width=\"100%\">"
   ]
  },
  {
   "cell_type": "markdown",
   "metadata": {},
   "source": [
    "><h2><em>Introducción</em><h2>"
   ]
  },
  {
   "cell_type": "markdown",
   "metadata": {},
   "source": [
    "<h5 style=\"font-size:1.4rem;\">En base a la corrección realizada al dataset original, se busca determinar en que medida las diferentes variables analizadas <b>(estado nutricional, socioeconómicas y ecológicas)</b> inciden en la aparición de enfermedades cardiovasculares en pacientes residentes en la provincia de Córdoba, que asisten al centro de cardiología del Hospital Nacional de Clínicas.</h5>\n",
    "<h5 style=\"font-size:1.4rem;\">Para ello, se confeccionó el índice <b>\"Salud Cardiovascular Ideal\"</b>, propuesto por la Asociación Americana del Corazón, donde se puede estimar dicho riesgo en base a 7 métricas (4 comportamientos saludables y 3 factores de salud ideales) y un puntaje final, que varia entre \"Ideal\", \"Intermedio\" y \"Pobre\".</h5>\n",
    "<h5 style=\"font-size:1.4rem;\">Con el dataset confeccionado, se <b>entrenará y evaluará</b> un modelo que se ajuste de mejor manera para predecir un valor de \"SCI\" y en que medida las diferentes variables <b>inciden</b> en dicha predicción.</b> </h5>"
   ]
  },
  {
   "cell_type": "markdown",
   "metadata": {
    "vscode": {
     "languageId": "plaintext"
    }
   },
   "source": [
    "><h2><em>Preprocesamiento</em><h2>"
   ]
  },
  {
   "cell_type": "markdown",
   "metadata": {},
   "source": [
    "<h4><em>1. Importar librerias</em></h4>\n",
    "<hr>"
   ]
  },
  {
   "cell_type": "code",
   "execution_count": 1,
   "metadata": {},
   "outputs": [],
   "source": [
    "import pandas as pd\n",
    "import matplotlib.pyplot as plt\n",
    "%run ../functions/functions.ipynb import binarizar_columnas\n",
    "\n",
    "# Modelado y evaluación:\n",
    "from sklearn.preprocessing import StandardScaler, OneHotEncoder,OrdinalEncoder\n",
    "from imblearn.over_sampling import SMOTE\n",
    "from sklearn.model_selection import train_test_split,GridSearchCV\n",
    "from sklearn.linear_model import LogisticRegression\n",
    "from sklearn.metrics import precision_score,roc_auc_score,classification_report,confusion_matrix, recall_score,roc_curve,accuracy_score\n",
    "import xgboost"
   ]
  },
  {
   "cell_type": "markdown",
   "metadata": {},
   "source": [
    "<h4><em>2. Cargar base de datos</em></h4>\n",
    "<hr>"
   ]
  },
  {
   "cell_type": "code",
   "execution_count": 2,
   "metadata": {},
   "outputs": [],
   "source": [
    "df = pd.read_csv(\"../1.1_data_limpia/base_pacientes_corregida.csv\")"
   ]
  },
  {
   "cell_type": "markdown",
   "metadata": {},
   "source": [
    "<h4><em>3. Codificar variables.</em></h4>\n",
    "<hr>"
   ]
  },
  {
   "cell_type": "markdown",
   "metadata": {},
   "source": [
    "<h4><em>3.1. Categóricas binomiales.</em></h4>\n",
    "<hr width=80% style=\"position:relative; left:-10%;\">"
   ]
  },
  {
   "cell_type": "markdown",
   "metadata": {},
   "source": [
    "<p style=\"font-size:1.4rem;text-align:center;\">Al existir solo 2 posibles resultados para nuestra variable a predecir, y debido al orden de importancia entre presentar o no un <b>SCI \"Pobre\"</b>, se va a mapear en sentido de presencia o ausencia de dicho valor de SCI.</p>"
   ]
  },
  {
   "cell_type": "code",
   "execution_count": 3,
   "metadata": {},
   "outputs": [],
   "source": [
    "sci_map = {\n",
    "    \"Pobre\" : 1,\n",
    "    \"Intermedio\" : 0\n",
    "}\n",
    "\n",
    "df[\"SCI_Final_Cod\"] = df[\"SCI_Final\"].map(sci_map)\n",
    "df = df.drop(columns=[\"SCI_Final\"])"
   ]
  },
  {
   "cell_type": "code",
   "execution_count": 4,
   "metadata": {},
   "outputs": [],
   "source": [
    "df['Sexo_fem'] = df['Sexo'].apply(lambda x: 1 if x == 1 else 0)\n",
    "df['Sexo_masc'] = df['Sexo'].apply(lambda x: 1 if x == 0 else 0)\n",
    "df = df.drop(columns=\"Sexo\")"
   ]
  },
  {
   "cell_type": "markdown",
   "metadata": {},
   "source": [
    "<h4><em>3.2. Categóricas nominales.</em></h4>\n",
    "<hr width=80% style=\"position:relative; left:-10%;\">"
   ]
  },
  {
   "cell_type": "code",
   "execution_count": 5,
   "metadata": {},
   "outputs": [],
   "source": [
    "var_categ_nom = df.loc[:,[\"IMC_clasif\",\"Localidad\",\"Ocupacion\",\"NDVI_clasif\",\"NDWI_clasif\",\"NDBI_clasif\"\t]]\n",
    "\n",
    "ohe_encoder = OneHotEncoder()\n",
    "\n",
    "var_categ_nom_encoded = ohe_encoder.fit_transform(var_categ_nom)\n",
    "\n",
    "var_categ_nom_encoded_df = pd.DataFrame(data=var_categ_nom_encoded.toarray(),columns=ohe_encoder.get_feature_names_out())\n",
    "\n",
    "df = pd.concat([df,var_categ_nom_encoded_df],axis=1)\n",
    "\n",
    "df = df.drop(columns=var_categ_nom.columns)"
   ]
  },
  {
   "cell_type": "markdown",
   "metadata": {},
   "source": [
    "<h4><em>3.3. Categóricas ordinales.</em></h4>\n",
    "<hr width=80% style=\"position:relative; left:-10%;\">"
   ]
  },
  {
   "cell_type": "code",
   "execution_count": 6,
   "metadata": {},
   "outputs": [],
   "source": [
    "var_categ_ord = df.loc[:,[\"Grado de Inst.\",\"AF_cod\"]]\n",
    "\n",
    "orden_grad_ins = [\"Analfabeta\",\"Primario incompleto\",\"Primario completo\",\"Secundario incompleto\",\"Secundario completo\",\"Terciario incompleto\",\"Terciario completo\",\"Universitario incompleto\",\"Universitario completo\"]\n",
    "orden_af = [\"Bajo\",\"Moderado\",\"Alto\"]\n",
    "\n",
    "ord_encoder_grad = OrdinalEncoder(categories=[orden_grad_ins])\n",
    "orden_grad_encoded = ord_encoder_grad.fit_transform(var_categ_ord[[\"Grado de Inst.\"]])\n",
    "var_categ_ord[\"Grado de Inst.\"] = orden_grad_encoded\n",
    "\n",
    "ord_encoder_af = OrdinalEncoder(categories=[orden_af])\n",
    "orden_af_encoded = ord_encoder_af.fit_transform(var_categ_ord[[\"AF_cod\"]])\n",
    "var_categ_ord[\"AF_cod\"] = orden_af_encoded\n",
    "\n",
    "df = df.drop(columns=[\"Grado de Inst.\",\"AF_cod\"])\n",
    "df = pd.concat([df,var_categ_ord],axis=1)"
   ]
  },
  {
   "cell_type": "markdown",
   "metadata": {},
   "source": [
    "<h4><em>4. Correlación entre variables y variable de interés</em></h4>\n",
    "<hr>"
   ]
  },
  {
   "cell_type": "code",
   "execution_count": 7,
   "metadata": {},
   "outputs": [
    {
     "name": "stdout",
     "output_type": "stream",
     "text": [
      "Principales variables relacionadas positivamente con SCI_Final_Cod : \n",
      "\n",
      "IMC_clasif_Obesidad    0.327897\n",
      "IMC_kg/m2              0.294806\n",
      "TBQ_cod                0.256552\n",
      "PAS_mmhg               0.228323\n",
      "PAD_mmhg               0.214245\n",
      "Name: SCI_Final_Cod, dtype: float64\n",
      "\n",
      "\n",
      "Principales variables relacionadas negativamente con SCI_Final_Cod : \n",
      "\n",
      "Consumo_verduras       -0.156389\n",
      "IMC_clasif_Normopeso   -0.223952\n",
      "Grado de Inst.         -0.247008\n",
      "Ocupacion_Docente      -0.297544\n",
      "AF_cod                 -0.299343\n",
      "Name: SCI_Final_Cod, dtype: float64\n"
     ]
    }
   ],
   "source": [
    "matriz_corr = df.corr(numeric_only=True) # Matriz de correlación entre variables numericas.\n",
    "\n",
    "print(f\"Principales variables relacionadas positivamente con SCI_Final_Cod : \\n\\n{matriz_corr[\"SCI_Final_Cod\"].sort_values(ascending=False).head(6).drop(index=\"SCI_Final_Cod\")}\")\n",
    "print(\"\\n\")\n",
    "print(f\"Principales variables relacionadas negativamente con SCI_Final_Cod : \\n\\n{matriz_corr[\"SCI_Final_Cod\"].sort_values(ascending=False).tail(5)}\")"
   ]
  },
  {
   "cell_type": "markdown",
   "metadata": {},
   "source": [
    "<h4><em>5. Definir variables y grupos de entrenamiento y prueba</em></h4>\n",
    "<hr>"
   ]
  },
  {
   "cell_type": "markdown",
   "metadata": {},
   "source": [
    "<h4><em></em></h4>"
   ]
  },
  {
   "cell_type": "code",
   "execution_count": 8,
   "metadata": {},
   "outputs": [],
   "source": [
    "X = df.drop(columns=[\"SCI_Final_Cod\"]) # Variables predictoras.\n",
    "y = df[\"SCI_Final_Cod\"] # Variable a predecir."
   ]
  },
  {
   "cell_type": "code",
   "execution_count": 25,
   "metadata": {},
   "outputs": [
    {
     "data": {
      "image/png": "[encoded data removed]",
      "text/plain": [
       "<Figure size 600x400 with 1 Axes>"
      ]
     },
     "metadata": {},
     "output_type": "display_data"
    }
   ],
   "source": [
    "plt.figure(figsize=(6,4)) # Representar pesos dentro de la variable a predecir.\n",
    "y.value_counts().plot(kind=\"bar\",color=\"xkcd:brownish pink\")\n",
    "plt.title(\"Balance de la variable SCI_Final_Cod\")\n",
    "plt.xticks(rotation=0,ticks=[0,1,],labels=[\"Pobre\",\"Intermedio\"])\n",
    "plt.ylabel(\"Frecuencia\")\n",
    "plt.grid(axis='y', linestyle='--', alpha=0.7) \n",
    "plt.show()"
   ]
  },
  {
   "cell_type": "markdown",
   "metadata": {},
   "source": [
    "<p>Existe una diferencia muy marcada entre las clases de la variable a predecir.</p>"
   ]
  },
  {
   "cell_type": "code",
   "execution_count": 10,
   "metadata": {},
   "outputs": [],
   "source": [
    "# Aplicar SMOTE para balancear la clase minoritaria \"Intermedio\".\n",
    "\n",
    "sm = SMOTE()\n",
    "X_res,y_res = sm.fit_resample(X=X,y=y)"
   ]
  },
  {
   "cell_type": "code",
   "execution_count": 11,
   "metadata": {},
   "outputs": [],
   "source": [
    "X_train, X_test, y_train, y_test = train_test_split(X_res,y_res,test_size=0.2,random_state=42)"
   ]
  },
  {
   "cell_type": "markdown",
   "metadata": {},
   "source": [
    "<h4><em>6. Normalización de variables</em></h4>\n",
    "<hr>"
   ]
  },
  {
   "cell_type": "code",
   "execution_count": 12,
   "metadata": {},
   "outputs": [],
   "source": [
    "var_scal = [\"Edad\",\"IMC_kg/m2\",\"PAS_mmhg\",\"PAD_mmhg\",\"Sodio mg/d\",\"Glucemia_m\",\"Col_mg/dl\",'Bebidas_azucar ml/sem','Consumo_verduras', 'Consumo_pescado']\n",
    "\n",
    "scaler = StandardScaler()\n",
    "\n",
    "X_train_scaled = scaler.fit_transform(X_train.loc[:,var_scal])\n",
    "X_test_scaled = scaler.transform(X_test.loc[:,var_scal])\n",
    "\n",
    "X_train_scaled_df = pd.DataFrame(data=X_train_scaled,columns=scaler.get_feature_names_out(),index=X_train.index)\n",
    "X_test_scaled_df = pd.DataFrame(data=X_test_scaled,columns=scaler.get_feature_names_out(),index=X_test.index)\n",
    "\n",
    "#Eliminar columnas numericas sin escalar.\n",
    "X_train.drop(X_train.loc[:,var_scal], inplace=True,axis=1)\n",
    "X_test.drop(X_test.loc[:,var_scal], inplace=True,axis=1)\n",
    "\n",
    "#Agregar columnas numericas escaladas.\n",
    "X_train = pd.concat([X_train,X_train_scaled_df],axis=\"columns\")\n",
    "X_test = pd.concat([X_test,X_test_scaled_df],axis=\"columns\")"
   ]
  },
  {
   "cell_type": "markdown",
   "metadata": {},
   "source": [
    "><h2><em>Instanciar modelos</em><h2>"
   ]
  },
  {
   "cell_type": "markdown",
   "metadata": {},
   "source": [
    "<h4 ><em>1. Regresión logística</em></h4>\n",
    "<hr>"
   ]
  },
  {
   "cell_type": "code",
   "execution_count": 13,
   "metadata": {},
   "outputs": [],
   "source": [
    "logistic_model = LogisticRegression(penalty=\"l2\")\n",
    "\n",
    "logistic_model.fit(X_train,y_train) # Entrenamiento del modelo.\n",
    "\n",
    "y_train_pred_log = logistic_model.predict(X_train) # Realizar predicción set de entrenamiento.\n",
    "y_test_pred_log = logistic_model.predict(X_test) # Realizar predicción set de prueba."
   ]
  },
  {
   "cell_type": "markdown",
   "metadata": {},
   "source": [
    "<h4 ><em>1.1 Evaluación general del modelo</em></h4>\n",
    "<hr width=80% style=\"position:relative; left:-10%;\">"
   ]
  },
  {
   "cell_type": "code",
   "execution_count": 14,
   "metadata": {},
   "outputs": [
    {
     "name": "stdout",
     "output_type": "stream",
     "text": [
      "Entrenamiento:\n",
      "\n",
      " Precisión: 0.96\n",
      " Sensibilidad: 0.93\n",
      " Matriz de confusión:\n",
      "\n",
      "               precision    recall  f1-score   support\n",
      "\n",
      "           0       0.93      0.97      0.95       231\n",
      "           1       0.96      0.93      0.94       228\n",
      "\n",
      "    accuracy                           0.95       459\n",
      "   macro avg       0.95      0.95      0.95       459\n",
      "weighted avg       0.95      0.95      0.95       459\n",
      "\n",
      "Prueba:\n",
      "\n",
      " Precisión: 0.95\n",
      " Sensibilidad: 0.93\n",
      " Matriz de confusión:\n",
      "\n",
      "               precision    recall  f1-score   support\n",
      "\n",
      "           0       0.93      0.95      0.94        56\n",
      "           1       0.95      0.93      0.94        59\n",
      "\n",
      "    accuracy                           0.94       115\n",
      "   macro avg       0.94      0.94      0.94       115\n",
      "weighted avg       0.94      0.94      0.94       115\n",
      "\n"
     ]
    }
   ],
   "source": [
    "#Precisión.\n",
    "precision_train = precision_score(y_train,y_train_pred_log)\n",
    "precision_test = precision_score(y_test,y_test_pred_log)\n",
    "\n",
    "# Sensibilidad.\n",
    "recall_train = recall_score(y_train,y_train_pred_log) \n",
    "recall_test = recall_score(y_test,y_test_pred_log)\n",
    "\n",
    "\n",
    "report_train = classification_report(y_train, y_train_pred_log)\n",
    "report_test = classification_report(y_test, y_test_pred_log)\n",
    "\n",
    "print(f\"Entrenamiento:\\n\\n Precisión: {precision_train:.2f}\\n Sensibilidad: {recall_train:.2f}\\n Matriz de confusión:\\n\\n {report_train}\")\n",
    "print(f\"Prueba:\\n\\n Precisión: {precision_test:.2f}\\n Sensibilidad: {recall_test:.2f}\\n Matriz de confusión:\\n\\n {report_test}\")\n"
   ]
  },
  {
   "cell_type": "markdown",
   "metadata": {},
   "source": [
    "<h4 ><em>1.2 Curva ROC-AUC</em></h4>\n",
    "<hr width=80% style=\"position:relative; left:-10%;\">"
   ]
  },
  {
   "cell_type": "code",
   "execution_count": 15,
   "metadata": {},
   "outputs": [
    {
     "data": {
      "image/png": "[encoded data removed]",
      "text/plain": [
       "<Figure size 1000x600 with 1 Axes>"
      ]
     },
     "metadata": {},
     "output_type": "display_data"
    },
    {
     "name": "stdout",
     "output_type": "stream",
     "text": [
      "AUC para el conjunto de testeo: 0.99\n"
     ]
    }
   ],
   "source": [
    "y_pred_proba = logistic_model.predict_proba(X_test)[:, 1] # Probabilidad de la clase positiva.\n",
    "\n",
    "fpr, tpr, thresholds = roc_curve(y_test, y_pred_proba)\n",
    "roc_auc = roc_auc_score(y_test, y_pred_proba)\n",
    "\n",
    "plt.figure(figsize=(10, 6))\n",
    "plt.plot(fpr, tpr, color='blue', label=f'curva ROC (area = {roc_auc:.2f})')\n",
    "plt.plot([0, 1], [0, 1], color='gray', linestyle='--')  # Línea aleatoria\n",
    "plt.xlabel('Tasa de Falsos Positivos (FPR)')\n",
    "plt.ylabel('Tasa de Verdaderos Positivos (TPR)')\n",
    "plt.title('Curva ROC')\n",
    "plt.legend(loc=\"lower right\")\n",
    "plt.show()\n",
    "\n",
    "print(f'AUC para el conjunto de testeo: {roc_auc:.2f}')"
   ]
  },
  {
   "cell_type": "markdown",
   "metadata": {},
   "source": [
    "<h4 ><em>1.3 Coeficiente de Correlación del modelo</em></h4>\n",
    "<hr width=80% style=\"position:relative; left:-10%;\">"
   ]
  },
  {
   "cell_type": "markdown",
   "metadata": {},
   "source": [
    "<p>Indica la relación entre las variables independientes y la probabilidad de la clase 1 (SCI = \"Pobre\"). Al aumentar dicho valor de esa variable, tambien aumenta la probabilidad de que la prediccion de clase sea 1.</p>"
   ]
  },
  {
   "cell_type": "code",
   "execution_count": 28,
   "metadata": {},
   "outputs": [
    {
     "data": {
      "image/png": "[encoded data removed]",
      "text/plain": [
       "<Figure size 1800x800 with 1 Axes>"
      ]
     },
     "metadata": {},
     "output_type": "display_data"
    }
   ],
   "source": [
    "\n",
    "coef = logistic_model.coef_[0]\n",
    "columnas = X.columns \n",
    "coef_df = pd.DataFrame(coef, index=columnas, columns=['Coeficiente'])\n",
    "\n",
    "\n",
    "plt.figure(figsize=(18, 8))\n",
    "plt.bar(coef_df.index, coef_df['Coeficiente'],color=\"xkcd:brownish pink\")\n",
    "plt.title('Coeficientes del Modelo de Regresión Logística')\n",
    "plt.ylabel('Valor del Coeficiente')\n",
    "plt.xlabel('Variables')\n",
    "plt.xticks(rotation=90)\n",
    "plt.grid(axis='y', linestyle='--', alpha=0.7) \n",
    "\n",
    "plt.show()\n"
   ]
  },
  {
   "cell_type": "markdown",
   "metadata": {},
   "source": [
    "<h4 ><em>2. XGBoost</em></h4>\n",
    "<hr>"
   ]
  },
  {
   "cell_type": "code",
   "execution_count": 17,
   "metadata": {},
   "outputs": [],
   "source": [
    "xgb = xgboost.XGBClassifier() # Empleamos un modelo de clasificacion binaria."
   ]
  },
  {
   "cell_type": "markdown",
   "metadata": {},
   "source": [
    "<h4 ><em>2.1 GridSearch CV</em></h4>\n",
    "<hr width=80% style=\"position:relative; left:-10%;\">"
   ]
  },
  {
   "cell_type": "code",
   "execution_count": 18,
   "metadata": {},
   "outputs": [],
   "source": [
    "# Parametros de entrenamiento.\n",
    "params = {\n",
    "    \"learning_rate\" : [0.05,0.1],\n",
    "    \"n_estimators\" : [100,200],\n",
    "}"
   ]
  },
  {
   "cell_type": "code",
   "execution_count": 19,
   "metadata": {},
   "outputs": [
    {
     "data": {
      "text/html": [
       "<style>#sk-container-id-1 {\n",
       "  /* Definition of color scheme common for light and dark mode */\n",
       "  --sklearn-color-text: #000;\n",
       "  --sklearn-color-text-muted: #666;\n",
       "  --sklearn-color-line: gray;\n",
       "  /* Definition of color scheme for unfitted estimators */\n",
       "  --sklearn-color-unfitted-level-0: #fff5e6;\n",
       "  --sklearn-color-unfitted-level-1: #f6e4d2;\n",
       "  --sklearn-color-unfitted-level-2: #ffe0b3;\n",
       "  --sklearn-color-unfitted-level-3: chocolate;\n",
       "  /* Definition of color scheme for fitted estimators */\n",
       "  --sklearn-color-fitted-level-0: #f0f8ff;\n",
       "  --sklearn-color-fitted-level-1: #d4ebff;\n",
       "  --sklearn-color-fitted-level-2: #b3dbfd;\n",
       "  --sklearn-color-fitted-level-3: cornflowerblue;\n",
       "\n",
       "  /* Specific color for light theme */\n",
       "  --sklearn-color-text-on-default-background: var(--sg-text-color, var(--theme-code-foreground, var(--jp-content-font-color1, black)));\n",
       "  --sklearn-color-background: var(--sg-background-color, var(--theme-background, var(--jp-layout-color0, white)));\n",
       "  --sklearn-color-border-box: var(--sg-text-color, var(--theme-code-foreground, var(--jp-content-font-color1, black)));\n",
       "  --sklearn-color-icon: #696969;\n",
       "\n",
       "  @media (prefers-color-scheme: dark) {\n",
       "    /* Redefinition of color scheme for dark theme */\n",
       "    --sklearn-color-text-on-default-background: var(--sg-text-color, var(--theme-code-foreground, var(--jp-content-font-color1, white)));\n",
       "    --sklearn-color-background: var(--sg-background-color, var(--theme-background, var(--jp-layout-color0, #111)));\n",
       "    --sklearn-color-border-box: var(--sg-text-color, var(--theme-code-foreground, var(--jp-content-font-color1, white)));\n",
       "    --sklearn-color-icon: #878787;\n",
       "  }\n",
       "}\n",
       "\n",
       "#sk-container-id-1 {\n",
       "  color: var(--sklearn-color-text);\n",
       "}\n",
       "\n",
       "#sk-container-id-1 pre {\n",
       "  padding: 0;\n",
       "}\n",
       "\n",
       "#sk-container-id-1 input.sk-hidden--visually {\n",
       "  border: 0;\n",
       "  clip: rect(1px 1px 1px 1px);\n",
       "  clip: rect(1px, 1px, 1px, 1px);\n",
       "  height: 1px;\n",
       "  margin: -1px;\n",
       "  overflow: hidden;\n",
       "  padding: 0;\n",
       "  position: absolute;\n",
       "  width: 1px;\n",
       "}\n",
       "\n",
       "#sk-container-id-1 div.sk-dashed-wrapped {\n",
       "  border: 1px dashed var(--sklearn-color-line);\n",
       "  margin: 0 0.4em 0.5em 0.4em;\n",
       "  box-sizing: border-box;\n",
       "  padding-bottom: 0.4em;\n",
       "  background-color: var(--sklearn-color-background);\n",
       "}\n",
       "\n",
       "#sk-container-id-1 div.sk-container {\n",
       "  /* jupyter's `normalize.less` sets `[hidden] { display: none; }`\n",
       "     but bootstrap.min.css set `[hidden] { display: none !important; }`\n",
       "     so we also need the `!important` here to be able to override the\n",
       "     default hidden behavior on the sphinx rendered scikit-learn.org.\n",
       "     See: https://github.com/scikit-learn/scikit-learn/issues/21755 */\n",
       "  display: inline-block !important;\n",
       "  position: relative;\n",
       "}\n",
       "\n",
       "#sk-container-id-1 div.sk-text-repr-fallback {\n",
       "  display: none;\n",
       "}\n",
       "\n",
       "div.sk-parallel-item,\n",
       "div.sk-serial,\n",
       "div.sk-item {\n",
       "  /* draw centered vertical line to link estimators */\n",
       "  background-image: linear-gradient(var(--sklearn-color-text-on-default-background), var(--sklearn-color-text-on-default-background));\n",
       "  background-size: 2px 100%;\n",
       "  background-repeat: no-repeat;\n",
       "  background-position: center center;\n",
       "}\n",
       "\n",
       "/* Parallel-specific style estimator block */\n",
       "\n",
       "#sk-container-id-1 div.sk-parallel-item::after {\n",
       "  content: \"\";\n",
       "  width: 100%;\n",
       "  border-bottom: 2px solid var(--sklearn-color-text-on-default-background);\n",
       "  flex-grow: 1;\n",
       "}\n",
       "\n",
       "#sk-container-id-1 div.sk-parallel {\n",
       "  display: flex;\n",
       "  align-items: stretch;\n",
       "  justify-content: center;\n",
       "  background-color: var(--sklearn-color-background);\n",
       "  position: relative;\n",
       "}\n",
       "\n",
       "#sk-container-id-1 div.sk-parallel-item {\n",
       "  display: flex;\n",
       "  flex-direction: column;\n",
       "}\n",
       "\n",
       "#sk-container-id-1 div.sk-parallel-item:first-child::after {\n",
       "  align-self: flex-end;\n",
       "  width: 50%;\n",
       "}\n",
       "\n",
       "#sk-container-id-1 div.sk-parallel-item:last-child::after {\n",
       "  align-self: flex-start;\n",
       "  width: 50%;\n",
       "}\n",
       "\n",
       "#sk-container-id-1 div.sk-parallel-item:only-child::after {\n",
       "  width: 0;\n",
       "}\n",
       "\n",
       "/* Serial-specific style estimator block */\n",
       "\n",
       "#sk-container-id-1 div.sk-serial {\n",
       "  display: flex;\n",
       "  flex-direction: column;\n",
       "  align-items: center;\n",
       "  background-color: var(--sklearn-color-background);\n",
       "  padding-right: 1em;\n",
       "  padding-left: 1em;\n",
       "}\n",
       "\n",
       "\n",
       "/* Toggleable style: style used for estimator/Pipeline/ColumnTransformer box that is\n",
       "clickable and can be expanded/collapsed.\n",
       "- Pipeline and ColumnTransformer use this feature and define the default style\n",
       "- Estimators will overwrite some part of the style using the `sk-estimator` class\n",
       "*/\n",
       "\n",
       "/* Pipeline and ColumnTransformer style (default) */\n",
       "\n",
       "#sk-container-id-1 div.sk-toggleable {\n",
       "  /* Default theme specific background. It is overwritten whether we have a\n",
       "  specific estimator or a Pipeline/ColumnTransformer */\n",
       "  background-color: var(--sklearn-color-background);\n",
       "}\n",
       "\n",
       "/* Toggleable label */\n",
       "#sk-container-id-1 label.sk-toggleable__label {\n",
       "  cursor: pointer;\n",
       "  display: flex;\n",
       "  width: 100%;\n",
       "  margin-bottom: 0;\n",
       "  padding: 0.5em;\n",
       "  box-sizing: border-box;\n",
       "  text-align: center;\n",
       "  align-items: start;\n",
       "  justify-content: space-between;\n",
       "  gap: 0.5em;\n",
       "}\n",
       "\n",
       "#sk-container-id-1 label.sk-toggleable__label .caption {\n",
       "  font-size: 0.6rem;\n",
       "  font-weight: lighter;\n",
       "  color: var(--sklearn-color-text-muted);\n",
       "}\n",
       "\n",
       "#sk-container-id-1 label.sk-toggleable__label-arrow:before {\n",
       "  /* Arrow on the left of the label */\n",
       "  content: \"▸\";\n",
       "  float: left;\n",
       "  margin-right: 0.25em;\n",
       "  color: var(--sklearn-color-icon);\n",
       "}\n",
       "\n",
       "#sk-container-id-1 label.sk-toggleable__label-arrow:hover:before {\n",
       "  color: var(--sklearn-color-text);\n",
       "}\n",
       "\n",
       "/* Toggleable content - dropdown */\n",
       "\n",
       "#sk-container-id-1 div.sk-toggleable__content {\n",
       "  max-height: 0;\n",
       "  max-width: 0;\n",
       "  overflow: hidden;\n",
       "  text-align: left;\n",
       "  /* unfitted */\n",
       "  background-color: var(--sklearn-color-unfitted-level-0);\n",
       "}\n",
       "\n",
       "#sk-container-id-1 div.sk-toggleable__content.fitted {\n",
       "  /* fitted */\n",
       "  background-color: var(--sklearn-color-fitted-level-0);\n",
       "}\n",
       "\n",
       "#sk-container-id-1 div.sk-toggleable__content pre {\n",
       "  margin: 0.2em;\n",
       "  border-radius: 0.25em;\n",
       "  color: var(--sklearn-color-text);\n",
       "  /* unfitted */\n",
       "  background-color: var(--sklearn-color-unfitted-level-0);\n",
       "}\n",
       "\n",
       "#sk-container-id-1 div.sk-toggleable__content.fitted pre {\n",
       "  /* unfitted */\n",
       "  background-color: var(--sklearn-color-fitted-level-0);\n",
       "}\n",
       "\n",
       "#sk-container-id-1 input.sk-toggleable__control:checked~div.sk-toggleable__content {\n",
       "  /* Expand drop-down */\n",
       "  max-height: 200px;\n",
       "  max-width: 100%;\n",
       "  overflow: auto;\n",
       "}\n",
       "\n",
       "#sk-container-id-1 input.sk-toggleable__control:checked~label.sk-toggleable__label-arrow:before {\n",
       "  content: \"▾\";\n",
       "}\n",
       "\n",
       "/* Pipeline/ColumnTransformer-specific style */\n",
       "\n",
       "#sk-container-id-1 div.sk-label input.sk-toggleable__control:checked~label.sk-toggleable__label {\n",
       "  color: var(--sklearn-color-text);\n",
       "  background-color: var(--sklearn-color-unfitted-level-2);\n",
       "}\n",
       "\n",
       "#sk-container-id-1 div.sk-label.fitted input.sk-toggleable__control:checked~label.sk-toggleable__label {\n",
       "  background-color: var(--sklearn-color-fitted-level-2);\n",
       "}\n",
       "\n",
       "/* Estimator-specific style */\n",
       "\n",
       "/* Colorize estimator box */\n",
       "#sk-container-id-1 div.sk-estimator input.sk-toggleable__control:checked~label.sk-toggleable__label {\n",
       "  /* unfitted */\n",
       "  background-color: var(--sklearn-color-unfitted-level-2);\n",
       "}\n",
       "\n",
       "#sk-container-id-1 div.sk-estimator.fitted input.sk-toggleable__control:checked~label.sk-toggleable__label {\n",
       "  /* fitted */\n",
       "  background-color: var(--sklearn-color-fitted-level-2);\n",
       "}\n",
       "\n",
       "#sk-container-id-1 div.sk-label label.sk-toggleable__label,\n",
       "#sk-container-id-1 div.sk-label label {\n",
       "  /* The background is the default theme color */\n",
       "  color: var(--sklearn-color-text-on-default-background);\n",
       "}\n",
       "\n",
       "/* On hover, darken the color of the background */\n",
       "#sk-container-id-1 div.sk-label:hover label.sk-toggleable__label {\n",
       "  color: var(--sklearn-color-text);\n",
       "  background-color: var(--sklearn-color-unfitted-level-2);\n",
       "}\n",
       "\n",
       "/* Label box, darken color on hover, fitted */\n",
       "#sk-container-id-1 div.sk-label.fitted:hover label.sk-toggleable__label.fitted {\n",
       "  color: var(--sklearn-color-text);\n",
       "  background-color: var(--sklearn-color-fitted-level-2);\n",
       "}\n",
       "\n",
       "/* Estimator label */\n",
       "\n",
       "#sk-container-id-1 div.sk-label label {\n",
       "  font-family: monospace;\n",
       "  font-weight: bold;\n",
       "  display: inline-block;\n",
       "  line-height: 1.2em;\n",
       "}\n",
       "\n",
       "#sk-container-id-1 div.sk-label-container {\n",
       "  text-align: center;\n",
       "}\n",
       "\n",
       "/* Estimator-specific */\n",
       "#sk-container-id-1 div.sk-estimator {\n",
       "  font-family: monospace;\n",
       "  border: 1px dotted var(--sklearn-color-border-box);\n",
       "  border-radius: 0.25em;\n",
       "  box-sizing: border-box;\n",
       "  margin-bottom: 0.5em;\n",
       "  /* unfitted */\n",
       "  background-color: var(--sklearn-color-unfitted-level-0);\n",
       "}\n",
       "\n",
       "#sk-container-id-1 div.sk-estimator.fitted {\n",
       "  /* fitted */\n",
       "  background-color: var(--sklearn-color-fitted-level-0);\n",
       "}\n",
       "\n",
       "/* on hover */\n",
       "#sk-container-id-1 div.sk-estimator:hover {\n",
       "  /* unfitted */\n",
       "  background-color: var(--sklearn-color-unfitted-level-2);\n",
       "}\n",
       "\n",
       "#sk-container-id-1 div.sk-estimator.fitted:hover {\n",
       "  /* fitted */\n",
       "  background-color: var(--sklearn-color-fitted-level-2);\n",
       "}\n",
       "\n",
       "/* Specification for estimator info (e.g. \"i\" and \"?\") */\n",
       "\n",
       "/* Common style for \"i\" and \"?\" */\n",
       "\n",
       ".sk-estimator-doc-link,\n",
       "a:link.sk-estimator-doc-link,\n",
       "a:visited.sk-estimator-doc-link {\n",
       "  float: right;\n",
       "  font-size: smaller;\n",
       "  line-height: 1em;\n",
       "  font-family: monospace;\n",
       "  background-color: var(--sklearn-color-background);\n",
       "  border-radius: 1em;\n",
       "  height: 1em;\n",
       "  width: 1em;\n",
       "  text-decoration: none !important;\n",
       "  margin-left: 0.5em;\n",
       "  text-align: center;\n",
       "  /* unfitted */\n",
       "  border: var(--sklearn-color-unfitted-level-1) 1pt solid;\n",
       "  color: var(--sklearn-color-unfitted-level-1);\n",
       "}\n",
       "\n",
       ".sk-estimator-doc-link.fitted,\n",
       "a:link.sk-estimator-doc-link.fitted,\n",
       "a:visited.sk-estimator-doc-link.fitted {\n",
       "  /* fitted */\n",
       "  border: var(--sklearn-color-fitted-level-1) 1pt solid;\n",
       "  color: var(--sklearn-color-fitted-level-1);\n",
       "}\n",
       "\n",
       "/* On hover */\n",
       "div.sk-estimator:hover .sk-estimator-doc-link:hover,\n",
       ".sk-estimator-doc-link:hover,\n",
       "div.sk-label-container:hover .sk-estimator-doc-link:hover,\n",
       ".sk-estimator-doc-link:hover {\n",
       "  /* unfitted */\n",
       "  background-color: var(--sklearn-color-unfitted-level-3);\n",
       "  color: var(--sklearn-color-background);\n",
       "  text-decoration: none;\n",
       "}\n",
       "\n",
       "div.sk-estimator.fitted:hover .sk-estimator-doc-link.fitted:hover,\n",
       ".sk-estimator-doc-link.fitted:hover,\n",
       "div.sk-label-container:hover .sk-estimator-doc-link.fitted:hover,\n",
       ".sk-estimator-doc-link.fitted:hover {\n",
       "  /* fitted */\n",
       "  background-color: var(--sklearn-color-fitted-level-3);\n",
       "  color: var(--sklearn-color-background);\n",
       "  text-decoration: none;\n",
       "}\n",
       "\n",
       "/* Span, style for the box shown on hovering the info icon */\n",
       ".sk-estimator-doc-link span {\n",
       "  display: none;\n",
       "  z-index: 9999;\n",
       "  position: relative;\n",
       "  font-weight: normal;\n",
       "  right: .2ex;\n",
       "  padding: .5ex;\n",
       "  margin: .5ex;\n",
       "  width: min-content;\n",
       "  min-width: 20ex;\n",
       "  max-width: 50ex;\n",
       "  color: var(--sklearn-color-text);\n",
       "  box-shadow: 2pt 2pt 4pt #999;\n",
       "  /* unfitted */\n",
       "  background: var(--sklearn-color-unfitted-level-0);\n",
       "  border: .5pt solid var(--sklearn-color-unfitted-level-3);\n",
       "}\n",
       "\n",
       ".sk-estimator-doc-link.fitted span {\n",
       "  /* fitted */\n",
       "  background: var(--sklearn-color-fitted-level-0);\n",
       "  border: var(--sklearn-color-fitted-level-3);\n",
       "}\n",
       "\n",
       ".sk-estimator-doc-link:hover span {\n",
       "  display: block;\n",
       "}\n",
       "\n",
       "/* \"?\"-specific style due to the `<a>` HTML tag */\n",
       "\n",
       "#sk-container-id-1 a.estimator_doc_link {\n",
       "  float: right;\n",
       "  font-size: 1rem;\n",
       "  line-height: 1em;\n",
       "  font-family: monospace;\n",
       "  background-color: var(--sklearn-color-background);\n",
       "  border-radius: 1rem;\n",
       "  height: 1rem;\n",
       "  width: 1rem;\n",
       "  text-decoration: none;\n",
       "  /* unfitted */\n",
       "  color: var(--sklearn-color-unfitted-level-1);\n",
       "  border: var(--sklearn-color-unfitted-level-1) 1pt solid;\n",
       "}\n",
       "\n",
       "#sk-container-id-1 a.estimator_doc_link.fitted {\n",
       "  /* fitted */\n",
       "  border: var(--sklearn-color-fitted-level-1) 1pt solid;\n",
       "  color: var(--sklearn-color-fitted-level-1);\n",
       "}\n",
       "\n",
       "/* On hover */\n",
       "#sk-container-id-1 a.estimator_doc_link:hover {\n",
       "  /* unfitted */\n",
       "  background-color: var(--sklearn-color-unfitted-level-3);\n",
       "  color: var(--sklearn-color-background);\n",
       "  text-decoration: none;\n",
       "}\n",
       "\n",
       "#sk-container-id-1 a.estimator_doc_link.fitted:hover {\n",
       "  /* fitted */\n",
       "  background-color: var(--sklearn-color-fitted-level-3);\n",
       "}\n",
       "</style><div id=\"sk-container-id-1\" class=\"sk-top-container\"><div class=\"sk-text-repr-fallback\"><pre>GridSearchCV(cv=3,\n",
       "             estimator=XGBClassifier(base_score=None, booster=None,\n",
       "                                     callbacks=None, colsample_bylevel=None,\n",
       "                                     colsample_bynode=None,\n",
       "                                     colsample_bytree=None, device=None,\n",
       "                                     early_stopping_rounds=None,\n",
       "                                     enable_categorical=False, eval_metric=None,\n",
       "                                     feature_types=None, feature_weights=None,\n",
       "                                     gamma=None, grow_policy=None,\n",
       "                                     importance_type=None,\n",
       "                                     interaction_constraints=None,\n",
       "                                     learning_rate=None, max_bin=None,\n",
       "                                     max_cat_threshold=None,\n",
       "                                     max_cat_to_onehot=None,\n",
       "                                     max_delta_step=None, max_depth=None,\n",
       "                                     max_leaves=None, min_child_weight=None,\n",
       "                                     missing=nan, monotone_constraints=None,\n",
       "                                     multi_strategy=None, n_estimators=None,\n",
       "                                     n_jobs=None, num_parallel_tree=None, ...),\n",
       "             param_grid={&#x27;learning_rate&#x27;: [0.05, 0.1],\n",
       "                         &#x27;n_estimators&#x27;: [100, 200]})</pre><b>In a Jupyter environment, please rerun this cell to show the HTML representation or trust the notebook. <br />On GitHub, the HTML representation is unable to render, please try loading this page with nbviewer.org.</b></div><div class=\"sk-container\" hidden><div class=\"sk-item sk-dashed-wrapped\"><div class=\"sk-label-container\"><div class=\"sk-label fitted sk-toggleable\"><input class=\"sk-toggleable__control sk-hidden--visually\" id=\"sk-estimator-id-1\" type=\"checkbox\" ><label for=\"sk-estimator-id-1\" class=\"sk-toggleable__label fitted sk-toggleable__label-arrow\"><div><div>GridSearchCV</div></div><div><a class=\"sk-estimator-doc-link fitted\" rel=\"noreferrer\" target=\"_blank\" href=\"https://scikit-learn.org/1.6/modules/generated/sklearn.model_selection.GridSearchCV.html\">?<span>Documentation for GridSearchCV</span></a><span class=\"sk-estimator-doc-link fitted\">i<span>Fitted</span></span></div></label><div class=\"sk-toggleable__content fitted\"><pre>GridSearchCV(cv=3,\n",
       "             estimator=XGBClassifier(base_score=None, booster=None,\n",
       "                                     callbacks=None, colsample_bylevel=None,\n",
       "                                     colsample_bynode=None,\n",
       "                                     colsample_bytree=None, device=None,\n",
       "                                     early_stopping_rounds=None,\n",
       "                                     enable_categorical=False, eval_metric=None,\n",
       "                                     feature_types=None, feature_weights=None,\n",
       "                                     gamma=None, grow_policy=None,\n",
       "                                     importance_type=None,\n",
       "                                     interaction_constraints=None,\n",
       "                                     learning_rate=None, max_bin=None,\n",
       "                                     max_cat_threshold=None,\n",
       "                                     max_cat_to_onehot=None,\n",
       "                                     max_delta_step=None, max_depth=None,\n",
       "                                     max_leaves=None, min_child_weight=None,\n",
       "                                     missing=nan, monotone_constraints=None,\n",
       "                                     multi_strategy=None, n_estimators=None,\n",
       "                                     n_jobs=None, num_parallel_tree=None, ...),\n",
       "             param_grid={&#x27;learning_rate&#x27;: [0.05, 0.1],\n",
       "                         &#x27;n_estimators&#x27;: [100, 200]})</pre></div> </div></div><div class=\"sk-parallel\"><div class=\"sk-parallel-item\"><div class=\"sk-item\"><div class=\"sk-label-container\"><div class=\"sk-label fitted sk-toggleable\"><input class=\"sk-toggleable__control sk-hidden--visually\" id=\"sk-estimator-id-2\" type=\"checkbox\" ><label for=\"sk-estimator-id-2\" class=\"sk-toggleable__label fitted sk-toggleable__label-arrow\"><div><div>best_estimator_: XGBClassifier</div></div></label><div class=\"sk-toggleable__content fitted\"><pre>XGBClassifier(base_score=None, booster=None, callbacks=None,\n",
       "              colsample_bylevel=None, colsample_bynode=None,\n",
       "              colsample_bytree=None, device=None, early_stopping_rounds=None,\n",
       "              enable_categorical=False, eval_metric=None, feature_types=None,\n",
       "              feature_weights=None, gamma=None, grow_policy=None,\n",
       "              importance_type=None, interaction_constraints=None,\n",
       "              learning_rate=0.05, max_bin=None, max_cat_threshold=None,\n",
       "              max_cat_to_onehot=None, max_delta_step=None, max_depth=None,\n",
       "              max_leaves=None, min_child_weight=None, missing=nan,\n",
       "              monotone_constraints=None, multi_strategy=None, n_estimators=100,\n",
       "              n_jobs=None, num_parallel_tree=None, ...)</pre></div> </div></div><div class=\"sk-serial\"><div class=\"sk-item\"><div class=\"sk-estimator fitted sk-toggleable\"><input class=\"sk-toggleable__control sk-hidden--visually\" id=\"sk-estimator-id-3\" type=\"checkbox\" ><label for=\"sk-estimator-id-3\" class=\"sk-toggleable__label fitted sk-toggleable__label-arrow\"><div><div>XGBClassifier</div></div><div><a class=\"sk-estimator-doc-link fitted\" rel=\"noreferrer\" target=\"_blank\" href=\"https://xgboost.readthedocs.io/en/release_3.0.0/python/python_api.html#xgboost.XGBClassifier\">?<span>Documentation for XGBClassifier</span></a></div></label><div class=\"sk-toggleable__content fitted\"><pre>XGBClassifier(base_score=None, booster=None, callbacks=None,\n",
       "              colsample_bylevel=None, colsample_bynode=None,\n",
       "              colsample_bytree=None, device=None, early_stopping_rounds=None,\n",
       "              enable_categorical=False, eval_metric=None, feature_types=None,\n",
       "              feature_weights=None, gamma=None, grow_policy=None,\n",
       "              importance_type=None, interaction_constraints=None,\n",
       "              learning_rate=0.05, max_bin=None, max_cat_threshold=None,\n",
       "              max_cat_to_onehot=None, max_delta_step=None, max_depth=None,\n",
       "              max_leaves=None, min_child_weight=None, missing=nan,\n",
       "              monotone_constraints=None, multi_strategy=None, n_estimators=100,\n",
       "              n_jobs=None, num_parallel_tree=None, ...)</pre></div> </div></div></div></div></div></div></div></div></div>"
      ],
      "text/plain": [
       "GridSearchCV(cv=3,\n",
       "             estimator=XGBClassifier(base_score=None, booster=None,\n",
       "                                     callbacks=None, colsample_bylevel=None,\n",
       "                                     colsample_bynode=None,\n",
       "                                     colsample_bytree=None, device=None,\n",
       "                                     early_stopping_rounds=None,\n",
       "                                     enable_categorical=False, eval_metric=None,\n",
       "                                     feature_types=None, feature_weights=None,\n",
       "                                     gamma=None, grow_policy=None,\n",
       "                                     importance_type=None,\n",
       "                                     interaction_constraints=None,\n",
       "                                     learning_rate=None, max_bin=None,\n",
       "                                     max_cat_threshold=None,\n",
       "                                     max_cat_to_onehot=None,\n",
       "                                     max_delta_step=None, max_depth=None,\n",
       "                                     max_leaves=None, min_child_weight=None,\n",
       "                                     missing=nan, monotone_constraints=None,\n",
       "                                     multi_strategy=None, n_estimators=None,\n",
       "                                     n_jobs=None, num_parallel_tree=None, ...),\n",
       "             param_grid={'learning_rate': [0.05, 0.1],\n",
       "                         'n_estimators': [100, 200]})"
      ]
     },
     "execution_count": 19,
     "metadata": {},
     "output_type": "execute_result"
    }
   ],
   "source": [
    "cv = GridSearchCV(estimator=xgb,param_grid=params,cv=3)\n",
    "cv.fit(X_train,y_train)"
   ]
  },
  {
   "cell_type": "code",
   "execution_count": 20,
   "metadata": {},
   "outputs": [],
   "source": [
    "best_xgb = cv.best_estimator_ # Mejor modelo (n_estimators = 200 | learning_rate = 0.1).\n",
    "y_pred_xgb = best_xgb.predict(X_test) # Realizando predicción con el mejor modelo."
   ]
  },
  {
   "cell_type": "code",
   "execution_count": 21,
   "metadata": {},
   "outputs": [
    {
     "data": {
      "text/html": [
       "<div>\n",
       "<style scoped>\n",
       "    .dataframe tbody tr th:only-of-type {\n",
       "        vertical-align: middle;\n",
       "    }\n",
       "\n",
       "    .dataframe tbody tr th {\n",
       "        vertical-align: top;\n",
       "    }\n",
       "\n",
       "    .dataframe thead th {\n",
       "        text-align: right;\n",
       "    }\n",
       "</style>\n",
       "<table border=\"1\" class=\"dataframe\">\n",
       "  <thead>\n",
       "    <tr style=\"text-align: right;\">\n",
       "      <th></th>\n",
       "      <th>Real</th>\n",
       "      <th>Test_reg_log</th>\n",
       "      <th>Test_xgb</th>\n",
       "    </tr>\n",
       "  </thead>\n",
       "  <tbody>\n",
       "    <tr>\n",
       "      <th>514</th>\n",
       "      <td>0</td>\n",
       "      <td>0</td>\n",
       "      <td>0</td>\n",
       "    </tr>\n",
       "    <tr>\n",
       "      <th>70</th>\n",
       "      <td>1</td>\n",
       "      <td>1</td>\n",
       "      <td>1</td>\n",
       "    </tr>\n",
       "    <tr>\n",
       "      <th>131</th>\n",
       "      <td>0</td>\n",
       "      <td>0</td>\n",
       "      <td>0</td>\n",
       "    </tr>\n",
       "    <tr>\n",
       "      <th>422</th>\n",
       "      <td>0</td>\n",
       "      <td>0</td>\n",
       "      <td>0</td>\n",
       "    </tr>\n",
       "    <tr>\n",
       "      <th>545</th>\n",
       "      <td>0</td>\n",
       "      <td>0</td>\n",
       "      <td>0</td>\n",
       "    </tr>\n",
       "    <tr>\n",
       "      <th>321</th>\n",
       "      <td>1</td>\n",
       "      <td>0</td>\n",
       "      <td>1</td>\n",
       "    </tr>\n",
       "    <tr>\n",
       "      <th>188</th>\n",
       "      <td>1</td>\n",
       "      <td>1</td>\n",
       "      <td>1</td>\n",
       "    </tr>\n",
       "    <tr>\n",
       "      <th>29</th>\n",
       "      <td>1</td>\n",
       "      <td>1</td>\n",
       "      <td>1</td>\n",
       "    </tr>\n",
       "    <tr>\n",
       "      <th>81</th>\n",
       "      <td>1</td>\n",
       "      <td>1</td>\n",
       "      <td>1</td>\n",
       "    </tr>\n",
       "    <tr>\n",
       "      <th>310</th>\n",
       "      <td>1</td>\n",
       "      <td>1</td>\n",
       "      <td>1</td>\n",
       "    </tr>\n",
       "  </tbody>\n",
       "</table>\n",
       "</div>"
      ],
      "text/plain": [
       "     Real  Test_reg_log  Test_xgb\n",
       "514     0             0         0\n",
       "70      1             1         1\n",
       "131     0             0         0\n",
       "422     0             0         0\n",
       "545     0             0         0\n",
       "321     1             0         1\n",
       "188     1             1         1\n",
       "29      1             1         1\n",
       "81      1             1         1\n",
       "310     1             1         1"
      ]
     },
     "execution_count": 21,
     "metadata": {},
     "output_type": "execute_result"
    }
   ],
   "source": [
    "# Comparar predicciones de los 2 modelos y los datos reales.\n",
    "comp_df = pd.DataFrame({\"Real\" : y_test,\"Test_reg_log\" : y_test_pred_log,\"Test_xgb\" : y_pred_xgb})\n",
    "comp_df.head(10)"
   ]
  },
  {
   "cell_type": "markdown",
   "metadata": {},
   "source": [
    "<h4 ><em>2.2 Evaluación general del modelo (Xgboost)</em></h4>\n",
    "<hr width=80% style=\"position:relative; left:-10%;\">"
   ]
  },
  {
   "cell_type": "code",
   "execution_count": 22,
   "metadata": {},
   "outputs": [
    {
     "name": "stdout",
     "output_type": "stream",
     "text": [
      "Métricas Xgboost:\n",
      "\n",
      " Precisión: 0.98\n",
      " Sensibilidad: 1.00\n",
      " Matriz de confusión:\n",
      "\n",
      "               precision    recall  f1-score   support\n",
      "\n",
      "           0       1.00      0.98      0.99        56\n",
      "           1       0.98      1.00      0.99        59\n",
      "\n",
      "    accuracy                           0.99       115\n",
      "   macro avg       0.99      0.99      0.99       115\n",
      "weighted avg       0.99      0.99      0.99       115\n",
      "\n"
     ]
    }
   ],
   "source": [
    "precision = precision_score(y_test,y_pred_xgb) # Útil para casos médicos (detección de enfermedad).\n",
    "recall = recall_score(y_test,y_pred_xgb) # Sensibilidad.\n",
    "reporte = classification_report(y_test, y_pred_xgb)\n",
    "\n",
    "print(f\"Métricas Xgboost:\\n\\n Precisión: {precision:.2f}\\n Sensibilidad: {recall:.2f}\\n Matriz de confusión:\\n\\n {reporte}\")"
   ]
  },
  {
   "cell_type": "markdown",
   "metadata": {},
   "source": [
    "<h4 ><em>2.3 Feature importance</em></h4>\n",
    "<hr width=80% style=\"position:relative; left:-10%;\">"
   ]
  },
  {
   "cell_type": "code",
   "execution_count": 23,
   "metadata": {},
   "outputs": [
    {
     "data": {
      "text/html": [
       "<div>\n",
       "<style scoped>\n",
       "    .dataframe tbody tr th:only-of-type {\n",
       "        vertical-align: middle;\n",
       "    }\n",
       "\n",
       "    .dataframe tbody tr th {\n",
       "        vertical-align: top;\n",
       "    }\n",
       "\n",
       "    .dataframe thead th {\n",
       "        text-align: right;\n",
       "    }\n",
       "</style>\n",
       "<table border=\"1\" class=\"dataframe\">\n",
       "  <thead>\n",
       "    <tr style=\"text-align: right;\">\n",
       "      <th></th>\n",
       "      <th>Característica</th>\n",
       "      <th>Importancia</th>\n",
       "    </tr>\n",
       "  </thead>\n",
       "  <tbody>\n",
       "    <tr>\n",
       "      <th>28</th>\n",
       "      <td>IMC_kg/m2</td>\n",
       "      <td>0.183043</td>\n",
       "    </tr>\n",
       "    <tr>\n",
       "      <th>26</th>\n",
       "      <td>AF_cod</td>\n",
       "      <td>0.164460</td>\n",
       "    </tr>\n",
       "    <tr>\n",
       "      <th>0</th>\n",
       "      <td>TBQ_cod</td>\n",
       "      <td>0.153505</td>\n",
       "    </tr>\n",
       "    <tr>\n",
       "      <th>29</th>\n",
       "      <td>PAS_mmhg</td>\n",
       "      <td>0.079236</td>\n",
       "    </tr>\n",
       "    <tr>\n",
       "      <th>4</th>\n",
       "      <td>IMC_clasif_Normopeso</td>\n",
       "      <td>0.061552</td>\n",
       "    </tr>\n",
       "    <tr>\n",
       "      <th>16</th>\n",
       "      <td>NDVI_clasif_Poca vegetacion</td>\n",
       "      <td>0.031085</td>\n",
       "    </tr>\n",
       "    <tr>\n",
       "      <th>32</th>\n",
       "      <td>Glucemia_m</td>\n",
       "      <td>0.029823</td>\n",
       "    </tr>\n",
       "    <tr>\n",
       "      <th>33</th>\n",
       "      <td>Col_mg/dl</td>\n",
       "      <td>0.029672</td>\n",
       "    </tr>\n",
       "    <tr>\n",
       "      <th>1</th>\n",
       "      <td>Sexo_fem</td>\n",
       "      <td>0.029007</td>\n",
       "    </tr>\n",
       "    <tr>\n",
       "      <th>35</th>\n",
       "      <td>Consumo_verduras</td>\n",
       "      <td>0.028260</td>\n",
       "    </tr>\n",
       "  </tbody>\n",
       "</table>\n",
       "</div>"
      ],
      "text/plain": [
       "                 Característica  Importancia\n",
       "28                    IMC_kg/m2     0.183043\n",
       "26                       AF_cod     0.164460\n",
       "0                       TBQ_cod     0.153505\n",
       "29                     PAS_mmhg     0.079236\n",
       "4          IMC_clasif_Normopeso     0.061552\n",
       "16  NDVI_clasif_Poca vegetacion     0.031085\n",
       "32                   Glucemia_m     0.029823\n",
       "33                    Col_mg/dl     0.029672\n",
       "1                      Sexo_fem     0.029007\n",
       "35             Consumo_verduras     0.028260"
      ]
     },
     "execution_count": 23,
     "metadata": {},
     "output_type": "execute_result"
    }
   ],
   "source": [
    "importancias_df = pd.DataFrame({\n",
    "    'Característica': X_train.columns, \n",
    "    'Importancia': best_xgb.feature_importances_\n",
    "}).sort_values(by='Importancia', ascending=False)  # Ordenar por importancia de mayor a menor\n",
    "\n",
    "importancias_df.head(10)"
   ]
  },
  {
   "cell_type": "markdown",
   "metadata": {},
   "source": [
    "<h4 style=\"top:2px;\"><em>Resumen del proceso de instanciado de los modelos.</em></h4>\n",
    " <h5 style=\"font-size:1.7rem;\">General:</h5>\n",
    "    <ul>\n",
    "        <li style=\"font-size:1.4rem; margin-top:-30px;\">Se encontró un <b>marcado desbalance de clases</b> dentro de la variable objetivo, por lo que se implementó <b>SMOTE</b> para generar datos sintéticos para la clase minoritaria.\n",
    "        </li>\n",
    "        <li style=\"font-size:1.4rem; margin-top:10px;\">Previamente al instanciado del modelo, se <b>pre-procesaron</b> las variables según su naturaleza (escalado y codificación).</b></li>\n",
    "    </ul>\n",
    "    <ol style=\"font-size:1.6rem;\">\n",
    "        <li><em>Regresión logística</em></li>\n",
    "        <ul>\n",
    "            <li style=\"font-size:1.3rem; margin-top:10px;\">Se escogió este modelo de regresión al ser un problema de <b>clasificación binaria.</b></li>\n",
    "            <li style=\"font-size:1.3rem; margin-top:10px;\">La puntuación dentro de las métricas de evaluación arrojaron una <b>precisión</b> y <b>sensibilidad</b> general del modelo alta.</li>\n",
    "            <li style=\"font-size:1.3rem; margin-top:10px;\">La comparación de métricas de evaluación entre el set de entrenamiento y de prueba <b>no mostró diferencias significativas</b> en el rendimiento del modelo, a la hora de clasificar datos nuevos.</li>\n",
    "            <li style=\"font-size:1.3rem; margin-top:10px;\">El valor del area bajo la curva de ROC arrojo un valor cercano a 1, indicando su <b>alta tasa de aciertos</b> a la hora de clasificar el valor de SCI para cada paciente.</li>\n",
    "            <li style=\"font-size:1.3rem; margin-top:10px;\">El coeficiente de correlación del modelo arrojo que las variables \"TBQ_cod\", \"IMC_kg/m2\" y \"Edad\" empujan al efecto de la predicción (SCI == Pobre), a diferencia de \"NDVI_clasif_Poca vegetacion\" que da sentido a la predicción en dirección contraria (SCI == Intermediio)</li>\n",
    "        </ul>\n",
    "        <li><em>Xgboost Classifier</em></li>\n",
    "        <ul>\n",
    "            <li style=\"font-size:1.3rem; margin-top:10px;\">A su vez, se entrenó un modelo Xgboost (específicamente XgboostClassifier), para comparar el rendimiento de ambos modelos.</li>\n",
    "            <li style=\"font-size:1.3rem; margin-top:10px;\">Se empleó GridsearchCV para obtener los mejores <b>hiperparámetros de entrenamiento</b>, y se escogio el modelo con la mejor configuración.</li>\n",
    "            <li style=\"font-size:1.3rem; margin-top:10px;\">Las métricas de evaluación arrojaron valores <b>elevados</b> sobre el rendimiento del modelo.</li>\n",
    "            <li style=\"font-size:1.3rem; margin-top:10px;\">Se creó un dataframe para comparar las salidas de <b>ambas predicciones.</b></li>\n",
    "            <li style=\"font-size:1.3rem; margin-top:10px;\">Dentro de las características mas importantes, feature_importace arrojo que \"TBQ_cod\", \"IMC_kg/m2\" y \"AF_cod\" fueron las variables mas influyentes a la hora de realizar las predicciones.</li>\n",
    "        </ul>\n",
    "    </ol>\n",
    "    \n",
    "    "
   ]
  },
  {
   "cell_type": "markdown",
   "metadata": {},
   "source": [
    "><h2><em>Conclusión</em><h2>"
   ]
  },
  {
   "cell_type": "markdown",
   "metadata": {},
   "source": [
    "<p>Se logró instanciar de manera eficiente dos modelos que pueden predecir, teniendo en cuenta las variables de interés, si un paciente de determinadas características posee o no un riesgo cardiovascular elevado o no.</p>\n",
    "<p>Ambos modelos (regresión logística y xgboostClassifier) mostraron que las variables \"TBQ_cod\" e \"IMC_kg/m2\" fueron determinantes a la hora de empujar las predicciones.</p>\n",
    "<p>No obstante, otras variables como las relacionadas al ambiente, grado de instrucción y ocupación tambien se encontraron asociadas a este suceso.</p>\n",
    "<p>Poder implementar modelos predictivos para encontrar con antelación cuando determinados valores puedan sugerir un riesgo cardiovascular a futuro es, no solo una recomendación, sino una necesidad para la población y un compromiso para la salud pública.</p>"
   ]
  }
 ],
 "metadata": {
  "kernelspec": {
   "display_name": "Python 3",
   "language": "python",
   "name": "python3"
  },
  "language_info": {
   "codemirror_mode": {
    "name": "ipython",
    "version": 3
   },
   "file_extension": ".py",
   "mimetype": "text/x-python",
   "name": "python",
   "nbconvert_exporter": "python",
   "pygments_lexer": "ipython3",
   "version": "3.12.1"
  }
 },
 "nbformat": 4,
 "nbformat_minor": 2
}
